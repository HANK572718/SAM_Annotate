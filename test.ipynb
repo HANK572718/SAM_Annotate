{
 "cells": [
  {
   "cell_type": "code",
   "execution_count": 7,
   "metadata": {},
   "outputs": [
    {
     "ename": "KeyError",
     "evalue": "'x'",
     "output_type": "error",
     "traceback": [
      "\u001b[1;31m---------------------------------------------------------------------------\u001b[0m",
      "\u001b[1;31mKeyError\u001b[0m                                  Traceback (most recent call last)",
      "Cell \u001b[1;32mIn[7], line 18\u001b[0m\n\u001b[0;32m     16\u001b[0m \u001b[38;5;66;03m# 將JSON中的資料轉換為mask圖片\u001b[39;00m\n\u001b[0;32m     17\u001b[0m \u001b[38;5;28;01mfor\u001b[39;00m obj \u001b[38;5;129;01min\u001b[39;00m data[\u001b[38;5;124m'\u001b[39m\u001b[38;5;124mobjects\u001b[39m\u001b[38;5;124m'\u001b[39m]:\n\u001b[1;32m---> 18\u001b[0m     x \u001b[38;5;241m=\u001b[39m \u001b[43mobj\u001b[49m\u001b[43m[\u001b[49m\u001b[38;5;124;43m'\u001b[39;49m\u001b[38;5;124;43mx\u001b[39;49m\u001b[38;5;124;43m'\u001b[39;49m\u001b[43m]\u001b[49m\n\u001b[0;32m     19\u001b[0m     y \u001b[38;5;241m=\u001b[39m obj[\u001b[38;5;124m'\u001b[39m\u001b[38;5;124my\u001b[39m\u001b[38;5;124m'\u001b[39m]\n\u001b[0;32m     20\u001b[0m     w \u001b[38;5;241m=\u001b[39m obj[\u001b[38;5;124m'\u001b[39m\u001b[38;5;124mwidth\u001b[39m\u001b[38;5;124m'\u001b[39m]\n",
      "\u001b[1;31mKeyError\u001b[0m: 'x'"
     ]
    }
   ],
   "source": [
    "import json\n",
    "import numpy as np\n",
    "from PIL import Image\n",
    "\n",
    "# 讀取JSON檔案\n",
    "with open('01.json', 'r') as f:\n",
    "    data = json.load(f)\n",
    "\n",
    "# 取得圖片的大小\n",
    "width = data[\"info\"][\"width\"]\n",
    "height = data[\"info\"][\"height\"]\n",
    "\n",
    "# 創建空白的mask圖片\n",
    "mask = np.zeros((height, width), dtype=np.uint8)\n",
    "\n",
    "# 將JSON中的資料轉換為mask圖片\n",
    "for obj in data['objects']:\n",
    "    x = obj['x']\n",
    "    y = obj['y']\n",
    "    w = obj['width']\n",
    "    h = obj['height']\n",
    "    mask[y:y+h, x:x+w] = 1\n",
    "\n",
    "# 將mask圖片轉換為PIL圖片並保存\n",
    "mask_img = Image.fromarray(mask * 255)\n",
    "mask_img.save('mask.png')"
   ]
  },
  {
   "cell_type": "code",
   "execution_count": 1,
   "metadata": {},
   "outputs": [
    {
     "name": "stdout",
     "output_type": "stream",
     "text": [
      "遮罩圖像已生成並保存為 mask_image.png\n"
     ]
    }
   ],
   "source": [
    "import json\n",
    "from PIL import Image, ImageDraw\n",
    "\n",
    "# 讀取 JSON 檔案\n",
    "json_file = '01.json'  # 請替換為你的 JSON 檔案路徑\n",
    "with open(json_file, 'r') as f:\n",
    "    data = json.load(f)\n",
    "\n",
    "# 獲取圖像資訊\n",
    "image_width = data['info']['width']\n",
    "image_height = data['info']['height']\n",
    "\n",
    "# 創建空白的遮罩圖像（假設為RGB圖像，白色背景）\n",
    "mask_image = Image.new('RGB', (image_width, image_height), color=(255, 255, 255))\n",
    "draw = ImageDraw.Draw(mask_image)\n",
    "\n",
    "# 繪製每個物體的遮罩\n",
    "for obj in data['objects']:\n",
    "    category = obj['category']\n",
    "    segmentation = obj['segmentation']\n",
    "    polygon = []\n",
    "    for point in segmentation:\n",
    "        polygon.append(tuple(point))\n",
    "    draw.polygon(polygon, fill=(0, 0, 0))  # 填充區域，黑色\n",
    "\n",
    "# 儲存遮罩圖像\n",
    "mask_image.save('mask_image.png')\n",
    "\n",
    "print('遮罩圖像已生成並保存為 mask_image.png')"
   ]
  },
  {
   "cell_type": "code",
   "execution_count": 5,
   "metadata": {},
   "outputs": [
    {
     "name": "stdout",
     "output_type": "stream",
     "text": [
      "遮罩圖像已生成並保存為 mask_image_filled.png\n"
     ]
    }
   ],
   "source": [
    "import json\n",
    "from PIL import Image, ImageDraw\n",
    "\n",
    "# 讀取 JSON 檔案\n",
    "json_file = '01.json'  # 請替換為你的 JSON 檔案路徑\n",
    "with open(json_file, 'r') as f:\n",
    "    data = json.load(f)\n",
    "\n",
    "# 獲取圖像資訊\n",
    "image_width = data['info']['width']\n",
    "image_height = data['info']['height']\n",
    "\n",
    "# 創建空白的遮罩圖像（假設為RGB圖像，白色背景）\n",
    "mask_image = Image.new('RGB', (image_width, image_height), color=(0,0,0))\n",
    "draw = ImageDraw.Draw(mask_image)\n",
    "\n",
    "# 定義要填充白色的類別\n",
    "# categories_to_fill = [\"knife\", \"trash\"]\n",
    "categories_to_fill = [\"person\"]\n",
    "\n",
    "# 繪製每個指定類別的遮罩\n",
    "for obj in data['objects']:\n",
    "    category = obj['category']\n",
    "    if category in categories_to_fill:\n",
    "        segmentation = obj['segmentation']\n",
    "        polygon = []\n",
    "        for point in segmentation:\n",
    "            polygon.append(tuple(point))\n",
    "        draw.polygon(polygon, fill=(255, 255, 255))  # 填充白色區域\n",
    "\n",
    "# 儲存遮罩圖像\n",
    "mask_image.save('mask_image_filled.png')\n",
    "\n",
    "print('遮罩圖像已生成並保存為 mask_image_filled.png')"
   ]
  },
  {
   "cell_type": "code",
   "execution_count": 6,
   "metadata": {},
   "outputs": [],
   "source": [
    "from pycocotools.coco import COCO\n",
    "import requests\n",
    "import os\n",
    "\n",
    "# 設定資料集存放路徑\n",
    "COCOROOT = 'datasets'\n",
    "if not os.path.exists(COCOROOT):\n",
    "    os.makedirs(COCOROOT)\n",
    "\n",
    "# 設定 COCO 資料集的 URL 和下載目標檔案名稱\n",
    "data_types = ['train2017', 'val2017', 'annotations']\n",
    "base_url = 'http://images.cocodataset.org/'\n",
    "\n",
    "for data_type in data_types:\n",
    "    if data_type == 'annotations':\n",
    "        url = f'{base_url}annotations/annotations_trainval2017.zip'\n",
    "        target_path = os.path.join(COCOROOT, 'annotations_trainval2017.zip')\n",
    "    else:\n",
    "        url = f'{base_url}zips/{data_type}.zip'\n",
    "        target_path = os.path.join(COCOROOT, f'{data_type}.zip')\n",
    "    \n",
    "    response = requests.get(url)\n",
    "    with open(target_path, 'wb') as f:\n",
    "        f.write(response.content)\n",
    "    print(f'{data_type} 資料集下載完成')\n",
    "\n",
    "# 下載完成後解壓縮\n",
    "import zipfile\n",
    "for data_type in data_types:\n",
    "    if data_type == 'annotations':\n",
    "        zip_path = os.path.join(COCOROOT, 'annotations_trainval2017.zip')\n",
    "    else:\n",
    "        zip_path = os.path.join(COCOROOT, f'{data_type}.zip')\n",
    "    \n",
    "    with zipfile.ZipFile(zip_path, 'r') as zip_ref:\n",
    "        zip_ref.extractall(COCOROOT)\n",
    "    print(f'{data_type} 資料集解壓完成')"
   ]
  },
  {
   "cell_type": "code",
   "execution_count": null,
   "metadata": {},
   "outputs": [],
   "source": []
  }
 ],
 "metadata": {
  "kernelspec": {
   "display_name": ".venv",
   "language": "python",
   "name": "python3"
  },
  "language_info": {
   "codemirror_mode": {
    "name": "ipython",
    "version": 3
   },
   "file_extension": ".py",
   "mimetype": "text/x-python",
   "name": "python",
   "nbconvert_exporter": "python",
   "pygments_lexer": "ipython3",
   "version": "3.10.11"
  }
 },
 "nbformat": 4,
 "nbformat_minor": 2
}
